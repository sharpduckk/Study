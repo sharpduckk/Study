{
 "cells": [
  {
   "cell_type": "markdown",
   "metadata": {},
   "source": [
    "# Mastering Python\n",
    "## 2. Pythonic Syntax, Common Pitfalls, and Style Guide"
   ]
  },
  {
   "cell_type": "markdown",
   "metadata": {},
   "source": [
    "## Index"
   ]
  },
  {
   "cell_type": "markdown",
   "metadata": {},
   "source": [
    "<H3>\n",
    "- A. Code style – or what is Pythonic code? \n",
    "  - Formatting strings – printf-style or str.format? \n",
    "  - PEP20, the Zen of Python\n",
    "  - Explaining PEP8 \n",
    "<br>\n",
    "<br>\n",
    "<br>\n",
    "- B. Common pitfalls\n",
    "  - Scope matters!\n",
    "  - Overwriting and/or creating extra built-ins\n",
    "  - Modifying while iterating\n",
    "  - Catching exceptions – differences between Python 2 and 3\n",
    "  - Late binding – be careful with closures\n",
    "  - Circular imports\n",
    "  - Import collisions"
   ]
  },
  {
   "cell_type": "markdown",
   "metadata": {},
   "source": [
    "------------------------------------------"
   ]
  },
  {
   "cell_type": "markdown",
   "metadata": {},
   "source": [
    "## A. Code style – or what is Pythonic code?: Python style efficient code"
   ]
  },
  {
   "cell_type": "markdown",
   "metadata": {},
   "source": [
    "- Clean \n",
    "- Simple \n",
    "- Beautiful \n",
    "- Explicit \n",
    "- Readable\n",
    "<br>\n",
    "<br>\n",
    "<br>\n",
    "<br>\n"
   ]
  },
  {
   "cell_type": "markdown",
   "metadata": {},
   "source": [
    "---------------------------"
   ]
  },
  {
   "cell_type": "markdown",
   "metadata": {},
   "source": [
    "## PEP: Python Enhancement Proposal"
   ]
  },
  {
   "cell_type": "markdown",
   "metadata": {},
   "source": [
    "- PEP 8: Style Guide for Python Code\n",
    "- PEP 20: The Zen of Python"
   ]
  },
  {
   "cell_type": "markdown",
   "metadata": {},
   "source": [
    "-------"
   ]
  },
  {
   "cell_type": "markdown",
   "metadata": {},
   "source": [
    "## PEP 20 , the Zen of Python"
   ]
  },
  {
   "cell_type": "code",
   "execution_count": 1,
   "metadata": {},
   "outputs": [
    {
     "name": "stdout",
     "output_type": "stream",
     "text": [
      "The Zen of Python, by Tim Peters\n",
      "\n",
      "Beautiful is better than ugly.\n",
      "Explicit is better than implicit.\n",
      "Simple is better than complex.\n",
      "Complex is better than complicated.\n",
      "Flat is better than nested.\n",
      "Sparse is better than dense.\n",
      "Readability counts.\n",
      "Special cases aren't special enough to break the rules.\n",
      "Although practicality beats purity.\n",
      "Errors should never pass silently.\n",
      "Unless explicitly silenced.\n",
      "In the face of ambiguity, refuse the temptation to guess.\n",
      "There should be one-- and preferably only one --obvious way to do it.\n",
      "Although that way may not be obvious at first unless you're Dutch.\n",
      "Now is better than never.\n",
      "Although never is often better than *right* now.\n",
      "If the implementation is hard to explain, it's a bad idea.\n",
      "If the implementation is easy to explain, it may be a good idea.\n",
      "Namespaces are one honking great idea -- let's do more of those!\n"
     ]
    }
   ],
   "source": [
    "import this"
   ]
  },
  {
   "cell_type": "markdown",
   "metadata": {},
   "source": [
    "---------------------------------"
   ]
  },
  {
   "cell_type": "markdown",
   "metadata": {},
   "source": [
    "### PEP20 1. Beautiful is better than ugly"
   ]
  },
  {
   "cell_type": "markdown",
   "metadata": {},
   "source": [
    "In short, instead of a somewhat complex function such as this:"
   ]
  },
  {
   "cell_type": "code",
   "execution_count": 3,
   "metadata": {
    "collapsed": true
   },
   "outputs": [],
   "source": [
    " def filter_modulo(items, modulo):\n",
    "    output_items = []\n",
    "    for i in range(len(items)):\n",
    "        if items[i] % modulo:\n",
    "            output_items.append(items[i])\n",
    "    return output_items"
   ]
  },
  {
   "cell_type": "markdown",
   "metadata": {},
   "source": [
    "Or this:"
   ]
  },
  {
   "cell_type": "code",
   "execution_count": 5,
   "metadata": {
    "collapsed": true
   },
   "outputs": [],
   "source": [
    "filter_modulo = lambda i, m: [i[j] for i in range(len(i)) if i[j] % m]"
   ]
  },
  {
   "cell_type": "markdown",
   "metadata": {},
   "source": [
    "Just do the following:"
   ]
  },
  {
   "cell_type": "code",
   "execution_count": 8,
   "metadata": {
    "code_folding": [],
    "collapsed": true
   },
   "outputs": [],
   "source": [
    "def filter_modulo(items, modulo):\n",
    "    for item in items:\n",
    "        if item % modulo:\n",
    "             yield item"
   ]
  },
  {
   "cell_type": "markdown",
   "metadata": {},
   "source": [
    "----------------------------------"
   ]
  },
  {
   "cell_type": "markdown",
   "metadata": {},
   "source": [
    "### PEP20 2. Explicit is better than implicit"
   ]
  },
  {
   "cell_type": "markdown",
   "metadata": {},
   "source": [
    "아래와 같이 특정 모듈에서 * 로 참조하면 실행하는 함수가 어떤 모듈의 메소드인지 알수 없음.."
   ]
  },
  {
   "cell_type": "code",
   "execution_count": null,
   "metadata": {
    "collapsed": true,
    "deletable": false,
    "editable": false,
    "run_control": {
     "frozen": true
    }
   },
   "outputs": [],
   "source": [
    "from spam import *\n",
    "from eggs import *\n",
    "some_function()"
   ]
  },
  {
   "cell_type": "markdown",
   "metadata": {},
   "source": [
    "모듈명을 명시하여 어떤 함수를 통해 실행 되는 함수인지 명시하는 것이 필요 <br>\n",
    "(위 예시 처럼 모듈 내부함수 이름이 동일한 경우에는 예상한 모듈의 함수를 사용 할 수 X"
   ]
  },
  {
   "cell_type": "code",
   "execution_count": null,
   "metadata": {
    "collapsed": true,
    "deletable": false,
    "editable": false,
    "run_control": {
     "frozen": true
    }
   },
   "outputs": [],
   "source": [
    "# better use\n",
    "import spam\n",
    "import eggs\n",
    "spam.some_function()\n",
    "eggs.some_function()"
   ]
  },
  {
   "cell_type": "markdown",
   "metadata": {
    "collapsed": true
   },
   "source": [
    "<br>\n",
    "<br>\n",
    "<br>\n",
    "<br>"
   ]
  },
  {
   "cell_type": "markdown",
   "metadata": {},
   "source": [
    "--------------"
   ]
  },
  {
   "cell_type": "markdown",
   "metadata": {
    "collapsed": true
   },
   "source": [
    "### PEP20 3. Simple is better than complex"
   ]
  },
  {
   "cell_type": "markdown",
   "metadata": {},
   "source": [
    "_\"Simple is better than complex. Complex is better than complicated.\"_"
   ]
  },
  {
   "cell_type": "markdown",
   "metadata": {},
   "source": [
    "아래 예시는 SQLite를 통해서 데이터를 로드, 실행\n",
    "이를 pickle로 대체 함으로써 3줄로 줄임.. "
   ]
  },
  {
   "cell_type": "code",
   "execution_count": null,
   "metadata": {
    "collapsed": true,
    "deletable": false,
    "editable": false,
    "run_control": {
     "frozen": true
    }
   },
   "outputs": [],
   "source": [
    "import sqlite3\n",
    "connection = sqlite3.connect('database.sqlite')\n",
    "cursor = connection.cursor()\n",
    "cursor.execute('CREATE TABLE data (key text, value text)')\n",
    "cursor.execute('''INSERT INTO data VALUES ('key', 'value')''')\n",
    "connection.commit()\n",
    "connection.close()"
   ]
  },
  {
   "cell_type": "markdown",
   "metadata": {},
   "source": [
    "<h3> vs.</h3>"
   ]
  },
  {
   "cell_type": "code",
   "execution_count": null,
   "metadata": {
    "collapsed": true,
    "deletable": false,
    "editable": false,
    "run_control": {
     "frozen": true
    }
   },
   "outputs": [],
   "source": [
    "# more simple\n",
    "import pickle # Or json/yaml\n",
    "With open('data.pickle', 'wb') as fh:\n",
    "    pickle.dump(data, fh, pickle.HIGHEST_PROTOCOL)"
   ]
  },
  {
   "cell_type": "markdown",
   "metadata": {},
   "source": [
    "--------------"
   ]
  },
  {
   "cell_type": "markdown",
   "metadata": {},
   "source": [
    "### PEP20 4. Flat is better than nested"
   ]
  },
  {
   "cell_type": "markdown",
   "metadata": {},
   "source": [
    "중첩 된 코드는 쉽게 가독성이 떨어지는 코드가 되므로 지양\n",
    "꼭 그렇게 해야한다는 룰은 없지만.. 나눌 수 있는 부분에서는 나누는 것이 권장된다"
   ]
  },
  {
   "cell_type": "code",
   "execution_count": 9,
   "metadata": {
    "collapsed": true
   },
   "outputs": [],
   "source": [
    "# nested\n",
    "def print_matrices():\n",
    "    for matrix in matrices:\n",
    "        print('Matrix:')\n",
    "        for row in matrix:\n",
    "            for col in row:\n",
    "                print(col, end='')\n",
    "            print()\n",
    "        print()"
   ]
  },
  {
   "cell_type": "code",
   "execution_count": null,
   "metadata": {
    "collapsed": true,
    "deletable": false,
    "editable": false,
    "run_control": {
     "frozen": true
    }
   },
   "outputs": [],
   "source": [
    "# flatter version\n",
    "def print_row(row):\n",
    "    for col in row:\n",
    "    print(col, end='')\n",
    "    \n",
    "def print_matrix(matrix):\n",
    "    for row in matrix:\n",
    "    print_row(row)\n",
    "    print()\n",
    "    \n",
    "def print_matrices(matrices):\n",
    "    for matrix in matrices:\n",
    "    print('Matrix:')\n",
    "    print_matrix(matrix)\n",
    "    print()"
   ]
  },
  {
   "cell_type": "markdown",
   "metadata": {},
   "source": [
    "--------------"
   ]
  },
  {
   "cell_type": "markdown",
   "metadata": {},
   "source": [
    "### PEP 20 5. Sparse is better than dense"
   ]
  },
  {
   "cell_type": "markdown",
   "metadata": {},
   "source": [
    "_\"Whitespace is generally a good thing\"_ <br>\n",
    "여러 줄에 나눠 쓰는 것이 공간은 많이 차지하지만, 가독성을 위해 나눠 쓰는 것이 좋다"
   ]
  },
  {
   "cell_type": "code",
   "execution_count": 23,
   "metadata": {},
   "outputs": [
    {
     "name": "stdout",
     "output_type": "stream",
     "text": [
      "correct\n",
      "4.0\n"
     ]
    }
   ],
   "source": [
    "# dense code example\n",
    ">>> def make_eggs(a,b):'while',['technically'];print('correct');\\\n",
    "... {'this':'is','highly':'unreadable'};print(1-a+b**4/2**2)\n",
    "...\n",
    ">>> make_eggs(1,2)"
   ]
  },
  {
   "cell_type": "code",
   "execution_count": 22,
   "metadata": {},
   "outputs": [
    {
     "name": "stdout",
     "output_type": "stream",
     "text": [
      "correct\n",
      "4.0\n"
     ]
    }
   ],
   "source": [
    "# sparse code example\n",
    ">>> def make_eggs(a, b):\n",
    "...     'while', ['technically']\n",
    "...     print('correct')\n",
    "...     {'this': 'is', 'highly': 'unreadable'}\n",
    "...     print(1 - a + ((b ** 4) / (2 ** 2)))\n",
    "...\n",
    ">>> make_eggs(1, 2)"
   ]
  },
  {
   "cell_type": "markdown",
   "metadata": {},
   "source": [
    "---------"
   ]
  },
  {
   "cell_type": "markdown",
   "metadata": {},
   "source": [
    "### PEP 20 6. Readability Counts"
   ]
  },
  {
   "cell_type": "markdown",
   "metadata": {},
   "source": [
    "Shorter does not always mean easier to read:"
   ]
  },
  {
   "cell_type": "code",
   "execution_count": 24,
   "metadata": {
    "collapsed": true
   },
   "outputs": [],
   "source": [
    "fib=lambda n:reduce(lambda x,y:(x[0]+x[1],x[0]),[(1,1)]*(n-2))[0]"
   ]
  },
  {
   "cell_type": "markdown",
   "metadata": {},
   "source": [
    "vs."
   ]
  },
  {
   "cell_type": "code",
   "execution_count": 28,
   "metadata": {
    "collapsed": true
   },
   "outputs": [],
   "source": [
    "# easy to read\n",
    "def fib(n):\n",
    "    a, b = 0, 1\n",
    "    while True:\n",
    "        yield a\n",
    "        a, b = b, a + b"
   ]
  },
  {
   "cell_type": "markdown",
   "metadata": {},
   "source": [
    "------"
   ]
  },
  {
   "cell_type": "markdown",
   "metadata": {},
   "source": [
    "### PEP 20 7. Practicality beats purity"
   ]
  },
  {
   "cell_type": "markdown",
   "metadata": {},
   "source": [
    "_\"Special cases aren't special enough to break the rules. Although practicality\n",
    "beats purity.\"_"
   ]
  },
  {
   "cell_type": "markdown",
   "metadata": {},
   "source": [
    "To prevent long lines, imports can be made shorter by using a few methods, adding\n",
    "a backslash, adding parentheses, or just shortening the imports:"
   ]
  },
  {
   "cell_type": "code",
   "execution_count": null,
   "metadata": {
    "collapsed": true,
    "deletable": false,
    "editable": false,
    "run_control": {
     "frozen": true
    }
   },
   "outputs": [],
   "source": [
    "from spam.eggs.foo.bar import spam, eggs, extra_spam, extra_eggs,\n",
    "extra_stuff from spam.eggs.foo.bar import spam, eggs, extra_spam,\n",
    "extra_eggs"
   ]
  },
  {
   "cell_type": "markdown",
   "metadata": {},
   "source": [
    "This case can easily be avoided by just following PEP8 (one import per line)"
   ]
  },
  {
   "cell_type": "code",
   "execution_count": null,
   "metadata": {
    "collapsed": true,
    "deletable": false,
    "editable": false,
    "run_control": {
     "frozen": true
    }
   },
   "outputs": [],
   "source": [
    "from spam.eggs.foo.bar import spam from spam.eggs.foo.bar import eggs\n",
    "from spam.eggs.foo.bar import extra_spam from spam.eggs.foo.bar \n",
    "from spam.eggs.foo.bar import eggs\n",
    "from spam.eggs.foo.bar import extra_spam\n",
    "from spam.eggs.foo.bar import extra_eggs"
   ]
  },
  {
   "cell_type": "code",
   "execution_count": null,
   "metadata": {
    "code_folding": [],
    "collapsed": true,
    "deletable": false,
    "editable": false,
    "run_control": {
     "frozen": true
    }
   },
   "outputs": [],
   "source": [
    "# worse\n",
    "from spam_eggs_and_some_extra_spam_stuff import\n",
    "my_spam_and_eggs_stuff_which_is_too_long_for_a_line\n",
    "\n",
    "# better\n",
    "from spam_eggs_and_some_extra_spam_stuff \\\n",
    "import my_spam_and_eggs_stuff_which_is_too_long_for_a_line"
   ]
  },
  {
   "cell_type": "markdown",
   "metadata": {},
   "source": [
    "------"
   ]
  },
  {
   "cell_type": "markdown",
   "metadata": {},
   "source": [
    "### PEP 20 8. Errors should never pass silently"
   ]
  },
  {
   "cell_type": "markdown",
   "metadata": {},
   "source": [
    "_\"Errors should never pass silently. Unless explicitly silenced.\"_"
   ]
  },
  {
   "cell_type": "code",
   "execution_count": null,
   "metadata": {
    "collapsed": true,
    "deletable": false,
    "editable": false,
    "run_control": {
     "frozen": true
    }
   },
   "outputs": [],
   "source": [
    "#If you really need to catch all errors, be very explicit about it:\n",
    "try:\n",
    "    value = int(user_input)\n",
    "except:\n",
    "    pass\n",
    "\n",
    "# If you really need to catch all errors, be very explicit about it:\n",
    "try:\n",
    "    value = int(user_input)\n",
    "except Exception as e:\n",
    "    logging.warn('Uncaught exception %r', e)\n",
    "\n",
    "# Or even better, catch it specifically and add a sane default:\n",
    "try:\n",
    "    value = int(user_input)\n",
    "except ValueError:\n",
    "    value = 0"
   ]
  },
  {
   "cell_type": "markdown",
   "metadata": {},
   "source": [
    "The problem is actually even more complicated. What about blocks of code that\n",
    "depend on whatever is happening within the exception? For example, consider the\n",
    "following code block:"
   ]
  },
  {
   "cell_type": "code",
   "execution_count": null,
   "metadata": {
    "collapsed": true,
    "deletable": false,
    "editable": false,
    "run_control": {
     "frozen": true
    }
   },
   "outputs": [],
   "source": [
    "# Or even better, catch it specifically and add a sane default:\n",
    "try:\n",
    "    value = int(user_input)\n",
    "    value = do_some_processing(value)\n",
    "    value = do_some_other_processing(value)\n",
    "except ValueError:\n",
    "    value = 0"
   ]
  },
  {
   "cell_type": "markdown",
   "metadata": {},
   "source": [
    "If ValueError is raised, which line is causing it? <br> Is it int(user_input), do_some_\n",
    "processing(value), or do_some_other_processing(value)? <br> With silent catching\n",
    "of the error, there is no way to know when regularly executing the code, and this can\n",
    "be quite dangerous. <br>If for some reason the processing of the other functions changes,\n",
    "<br>it becomes a problem to handle exceptions in this way. <br>So, unless it was actually\n",
    "intended to behave like that, use this instead:"
   ]
  },
  {
   "cell_type": "code",
   "execution_count": null,
   "metadata": {
    "collapsed": true,
    "deletable": false,
    "editable": false,
    "run_control": {
     "frozen": true
    }
   },
   "outputs": [],
   "source": [
    "# instead\n",
    "try:\n",
    "    value = int(user_input)\n",
    "except ValueError:\n",
    "    value = 0\n",
    "else:\n",
    "    value = do_some_processing(value)\n",
    "    value = do_some_other_processing(value)"
   ]
  },
  {
   "cell_type": "markdown",
   "metadata": {},
   "source": [
    "-------------------------"
   ]
  },
  {
   "cell_type": "markdown",
   "metadata": {},
   "source": [
    "### PEP 20 9. In the face of ambiguity, refuse the temptation to guess"
   ]
  },
  {
   "cell_type": "markdown",
   "metadata": {},
   "source": [
    "Ambiguity should generally be avoided, so guessing can be avoided. Clear and\n",
    "unambiguous code generates fewer bugs. A useful case where ambiguity is likely is\n",
    "function calling. <br> Take, for example, the following two function calls:"
   ]
  },
  {
   "cell_type": "code",
   "execution_count": null,
   "metadata": {
    "collapsed": true,
    "deletable": false,
    "editable": false,
    "run_control": {
     "frozen": true
    }
   },
   "outputs": [],
   "source": [
    "spam(1, 2, 3, 4, 5)\n",
    "spam(spam=1, eggs=2, a=3, b=4, c=5)"
   ]
  },
  {
   "cell_type": "markdown",
   "metadata": {},
   "source": [
    "They could be the same, but they might also not be. It's impossible to say without\n",
    "seeing the function. <br> If the function were implemented in the following way, the\n",
    "results would be vastly different between the two:"
   ]
  },
  {
   "cell_type": "code",
   "execution_count": 63,
   "metadata": {
    "collapsed": true
   },
   "outputs": [],
   "source": [
    "def spam(a=0, b=0, c=0, d=0, e=0, spam=1, eggs=2):\n",
    "    print('a:{} b:{} c:{} d:{} e:{} spam:{} eggs:{}'.format(a, b, c, d, e, spam, eggs))\n",
    "    pass"
   ]
  },
  {
   "cell_type": "code",
   "execution_count": 64,
   "metadata": {},
   "outputs": [
    {
     "name": "stdout",
     "output_type": "stream",
     "text": [
      "a:1 b:2 c:3 d:4 e:5 spam:1 eggs:2\n",
      "a:3 b:4 c:5 d:0 e:0 spam:1 eggs:2\n"
     ]
    }
   ],
   "source": [
    "spam(1, 2, 3, 4, 5)\n",
    "spam(spam=1, eggs=2, a=3, b=4, c=5)"
   ]
  },
  {
   "cell_type": "markdown",
   "metadata": {},
   "source": [
    "-------"
   ]
  },
  {
   "cell_type": "markdown",
   "metadata": {},
   "source": [
    "### PEP 20 10. One obvious way to do it"
   ]
  },
  {
   "cell_type": "markdown",
   "metadata": {},
   "source": [
    "_\"There should be one—and preferably only one—obvious way to do it. Although\n",
    "that way may not be obvious at first unless you're Dutch.\"_"
   ]
  },
  {
   "cell_type": "markdown",
   "metadata": {},
   "source": [
    "------"
   ]
  },
  {
   "cell_type": "markdown",
   "metadata": {},
   "source": [
    "### PEP 20 11. Now is better than never"
   ]
  },
  {
   "cell_type": "markdown",
   "metadata": {},
   "source": [
    "_\"Now is better than never. Although never is often better than *right* now.\"_"
   ]
  },
  {
   "cell_type": "code",
   "execution_count": null,
   "metadata": {
    "collapsed": true,
    "deletable": false,
    "editable": false,
    "run_control": {
     "frozen": true
    }
   },
   "outputs": [],
   "source": [
    "import warnings\n",
    "warnings.warn('Something deprecated', DeprecationWarning)"
   ]
  },
  {
   "cell_type": "markdown",
   "metadata": {},
   "source": [
    "### PEP 20 12. Hard to explain, easy to explain"
   ]
  },
  {
   "cell_type": "markdown",
   "metadata": {},
   "source": [
    "_\"If the implementation is hard to explain, it's a bad idea. If the implementation is\n",
    "easy to explain, it may be a good idea.\"_"
   ]
  },
  {
   "cell_type": "markdown",
   "metadata": {},
   "source": [
    "-------"
   ]
  },
  {
   "cell_type": "markdown",
   "metadata": {},
   "source": [
    "### PEP 20 13. Namespaces are one honking great idea"
   ]
  },
  {
   "cell_type": "markdown",
   "metadata": {},
   "source": [
    "_\"Namespaces are one honking great idea—let's do more of those!\"_"
   ]
  },
  {
   "cell_type": "code",
   "execution_count": null,
   "metadata": {
    "collapsed": true,
    "deletable": false,
    "editable": false,
    "run_control": {
     "frozen": true
    }
   },
   "outputs": [],
   "source": [
    "# bad: not easy to figure out\n",
    "load(fh)\n",
    "\n",
    "# good (using namespace)\n",
    "pickle.load(fh)"
   ]
  },
  {
   "cell_type": "markdown",
   "metadata": {},
   "source": [
    "## Conclusion"
   ]
  },
  {
   "cell_type": "markdown",
   "metadata": {},
   "source": [
    "• Beautiful <br>\n",
    "• Readable <br>\n",
    "• Unambiguous <br>\n",
    "• Explicit enough <br>\n",
    "• Not completely void of whitespace <br>"
   ]
  },
  {
   "cell_type": "markdown",
   "metadata": {},
   "source": [
    "---------------"
   ]
  },
  {
   "cell_type": "markdown",
   "metadata": {},
   "source": [
    "------------------"
   ]
  },
  {
   "cell_type": "markdown",
   "metadata": {},
   "source": [
    "## PEP 8, Style Guide for Python Code"
   ]
  },
  {
   "cell_type": "markdown",
   "metadata": {},
   "source": [
    "### PEP 8 1. Duck typing"
   ]
  },
  {
   "cell_type": "markdown",
   "metadata": {},
   "source": [
    "_\"Duck typing is a method of handling variables by behavior\"_\n",
    "<br>..프로그래밍 언어에서 어떤 대상의 타입 검사를 최대한 늦추는 체계 <br>\n",
    "(프로그래머에게는 최대한 유연성을 주는 장점)"
   ]
  },
  {
   "cell_type": "code",
   "execution_count": 69,
   "metadata": {},
   "outputs": [
    {
     "name": "stdout",
     "output_type": "stream",
     "text": [
      "9\n",
      "[1, 2, 3, 1, 2, 3]\n",
      "one and two, one and two, one and two, \n"
     ]
    }
   ],
   "source": [
    "def sumprod(a, b, m):\n",
    "    return (a + b) * m\n",
    " \n",
    "x = sumprod(1, 2, 3)\n",
    "l = sumprod([1], [2, 3], 2)\n",
    "s = sumprod('one ', 'and two, ', 3)\n",
    " \n",
    "print(x)\n",
    "print(l)\n",
    "print(s)"
   ]
  },
  {
   "cell_type": "code",
   "execution_count": null,
   "metadata": {
    "collapsed": true,
    "deletable": false,
    "editable": false,
    "run_control": {
     "frozen": true
    }
   },
   "outputs": [],
   "source": [
    "# timestamp to generate a filename:\n",
    "# for this\n",
    "filename = '%s.csv' % timestamp"
   ]
  },
  {
   "cell_type": "code",
   "execution_count": null,
   "metadata": {
    "collapsed": true,
    "deletable": false,
    "editable": false,
    "run_control": {
     "frozen": true
    }
   },
   "outputs": [],
   "source": [
    "# o check whether it is actually a date or datetime object\n",
    "import datetime\n",
    "if isinstance(timestamp, (datetime.date, datetime.datetime)):\n",
    "    filename = '%s.csv' % timestamp\n",
    "else:\n",
    "    raise TypeError(\n",
    "        'Timestamp %r should be date(time) object, got %s'\n",
    "    % (timestamp, type(timestamp)))"
   ]
  },
  {
   "cell_type": "markdown",
   "metadata": {},
   "source": [
    "In Python, as there is oftentimes no need for it <br>\n",
    "just use the following,"
   ]
  },
  {
   "cell_type": "code",
   "execution_count": null,
   "metadata": {
    "collapsed": true,
    "deletable": false,
    "editable": false,
    "run_control": {
     "frozen": true
    }
   },
   "outputs": [],
   "source": [
    "import datetime\n",
    "timestamp = datetime.date(2000, 10, 5)\n",
    "filename = '%s.csv' % timestamp\n",
    "print('Filename from date: %s' % filename)\n",
    "\n",
    "timestamp = '2000-10-05'\n",
    "filename = '%s.csv' % timestamp\n",
    "print('Filename from str: %s' % filename)"
   ]
  },
  {
   "cell_type": "code",
   "execution_count": null,
   "metadata": {
    "collapsed": true,
    "deletable": false,
    "editable": false,
    "run_control": {
     "frozen": true
    }
   },
   "outputs": [],
   "source": [
    "# again, don't use\n",
    "if isinstance(value, int):\n",
    "\n",
    "# just use\n",
    "value = int(value)\n",
    "\n",
    "# and instead\n",
    "import io\n",
    "if isinstance(fh, io.IOBase):\n",
    "\n",
    "# Simply use the following\n",
    "if hasattr(fh, 'read'):"
   ]
  },
  {
   "cell_type": "markdown",
   "metadata": {},
   "source": [
    "--------"
   ]
  },
  {
   "cell_type": "markdown",
   "metadata": {},
   "source": [
    "### PEP 8 2. Differences between value and identity comparisons"
   ]
  },
  {
   "cell_type": "markdown",
   "metadata": {},
   "source": [
    "value와 identity의 차이를 이해 필요"
   ]
  },
  {
   "cell_type": "code",
   "execution_count": 74,
   "metadata": {},
   "outputs": [
    {
     "name": "stdout",
     "output_type": "stream",
     "text": [
      "256 == 256: True\n",
      "256 is 256: True\n",
      "257 == 257: True\n",
      "257 is 257: False\n"
     ]
    }
   ],
   "source": [
    "a = 200 + 56\n",
    "b = 256\n",
    "c = 200 + 57\n",
    "d = 257\n",
    "\n",
    "print('%r == %r: %r' % (a, b, a == b))\n",
    "print('%r is %r: %r' % (a, b, a is b))\n",
    "print('%r == %r: %r' % (c, d, c == d))\n",
    "print('%r is %r: %r' % (c, d, c is d))"
   ]
  },
  {
   "cell_type": "markdown",
   "metadata": {},
   "source": [
    "--------"
   ]
  },
  {
   "cell_type": "markdown",
   "metadata": {},
   "source": [
    "### PEP 8 3. Loops"
   ]
  },
  {
   "cell_type": "code",
   "execution_count": null,
   "metadata": {
    "collapsed": true,
    "deletable": false,
    "editable": false,
    "run_control": {
     "frozen": true
    }
   },
   "outputs": [],
   "source": [
    "# Can be complex than needed\n",
    "i = 0\n",
    "while i < len(my_list):\n",
    "    item = my_list[i]\n",
    "    i += 1\n",
    "    do_something(i, item)"
   ]
  },
  {
   "cell_type": "code",
   "execution_count": null,
   "metadata": {
    "collapsed": true,
    "deletable": false,
    "editable": false,
    "run_control": {
     "frozen": true
    }
   },
   "outputs": [],
   "source": [
    "# Instead you can do the following\n",
    "for i, item in enumerate(my_list):\n",
    "    do_something(i, item)"
   ]
  },
  {
   "cell_type": "code",
   "execution_count": null,
   "metadata": {
    "collapsed": true,
    "deletable": false,
    "editable": false,
    "run_control": {
     "frozen": true
    }
   },
   "outputs": [],
   "source": [
    "# more shorter (but, not recommended)\n",
    "[do_something(i, item) for i, item in enumerate(my_list)]"
   ]
  },
  {
   "cell_type": "markdown",
   "metadata": {},
   "source": [
    "--------"
   ]
  },
  {
   "cell_type": "markdown",
   "metadata": {},
   "source": [
    "### PEP 8 4. Maximum line length"
   ]
  },
  {
   "cell_type": "markdown",
   "metadata": {},
   "source": [
    "Limit all lines to a maximum of 79 characters."
   ]
  },
  {
   "cell_type": "code",
   "execution_count": null,
   "metadata": {
    "collapsed": true,
    "deletable": false,
    "editable": false,
    "run_control": {
     "frozen": true
    }
   },
   "outputs": [],
   "source": [
    "# bad\n",
    "with open('/path/to/some/file/you/want/to/read') as file_1, \\\n",
    "        open('/path/to/some/file/being/written', 'w') as file_2:\n",
    "    file_2.write(file_1.read())"
   ]
  },
  {
   "cell_type": "code",
   "execution_count": null,
   "metadata": {
    "collapsed": true,
    "deletable": false,
    "editable": false,
    "run_control": {
     "frozen": true
    }
   },
   "outputs": [],
   "source": [
    "# better\n",
    "filename_1 = '/path/to/some/file/you/want/to/read'\n",
    "filename_2 = '/path/to/some/file/being/written'\n",
    "with open(filename_1) as file_1:\n",
    "    with open(filename_2, 'w') as file_2:\n",
    "        file_2.write(file_1.read())"
   ]
  },
  {
   "cell_type": "markdown",
   "metadata": {
    "collapsed": true
   },
   "source": [
    "--------"
   ]
  },
  {
   "cell_type": "markdown",
   "metadata": {},
   "source": [
    "## B. Common pitfalls"
   ]
  },
  {
   "cell_type": "markdown",
   "metadata": {},
   "source": [
    "### 1. Scope matters!"
   ]
  },
  {
   "cell_type": "code",
   "execution_count": 21,
   "metadata": {},
   "outputs": [
    {
     "name": "stdout",
     "output_type": "stream",
     "text": [
      "List: ['value 1']\n",
      "Dict: {'key 1': 'value 1'}\n",
      "List: ['value 1', 'value 2']\n",
      "Dict: {'key 1': 'value 1', 'key 2': 'value 2'}\n"
     ]
    },
    {
     "data": {
      "text/plain": [
       "\"\\nList: ['value 1']\\nDict: {'key 1': 'value 1'}\\nList: ['value 2']\\nDict: {'key 2': 'value 2'}\""
      ]
     },
     "execution_count": 21,
     "metadata": {},
     "output_type": "execute_result"
    }
   ],
   "source": [
    "# Function arguments\n",
    "def spam(key, value, list_=[], dict_={}):\n",
    "    list_.append(value)\n",
    "    dict_[key] = value\n",
    "    \n",
    "    print('List: %r' % list_)\n",
    "    print('Dict: %r' % dict_)\n",
    "    \n",
    "spam('key 1', 'value 1')\n",
    "spam('key 2', 'value 2')\n",
    "\n",
    "# we expect \n",
    "\"\"\"\n",
    "List: ['value 1']\n",
    "Dict: {'key 1': 'value 1'}\n",
    "List: ['value 2']\n",
    "Dict: {'key 2': 'value 2'}\"\"\""
   ]
  },
  {
   "cell_type": "markdown",
   "metadata": {},
   "source": [
    "The reason is that list_ and dict_ are actually shared between multiple calls."
   ]
  },
  {
   "cell_type": "code",
   "execution_count": 10,
   "metadata": {},
   "outputs": [
    {
     "name": "stdout",
     "output_type": "stream",
     "text": [
      "List: ['value 1']\n",
      "Dict: {'key 1': 'value 1'}\n",
      "List: ['value 2']\n",
      "Dict: {'key 2': 'value 2'}\n"
     ]
    }
   ],
   "source": [
    "def spam(key, value, list_=None, dict_=None):\n",
    "    if list_ is None:\n",
    "        list_ = []\n",
    "    if dict_ is None:\n",
    "        dict_ = {}\n",
    "    list_.append(value)\n",
    "    dict_[key] = value\n",
    "    \n",
    "    print('List: %r' % list_)\n",
    "    print('Dict: %r' % dict_)\n",
    "\n",
    "spam('key 1', 'value 1')\n",
    "spam('key 2', 'value 2')"
   ]
  },
  {
   "cell_type": "markdown",
   "metadata": {},
   "source": [
    "----------"
   ]
  },
  {
   "cell_type": "code",
   "execution_count": 9,
   "metadata": {
    "collapsed": true
   },
   "outputs": [],
   "source": [
    "# Class properties"
   ]
  },
  {
   "cell_type": "markdown",
   "metadata": {},
   "source": [
    "Modifying variables in the global scope <br>\n",
    ":anything containing spam = makes the variable local to your scope"
   ]
  },
  {
   "cell_type": "code",
   "execution_count": 7,
   "metadata": {},
   "outputs": [
    {
     "ename": "UnboundLocalError",
     "evalue": "local variable 'spam' referenced before assignment",
     "output_type": "error",
     "traceback": [
      "\u001b[1;31m---------------------------------------------------------------------------\u001b[0m",
      "\u001b[1;31mUnboundLocalError\u001b[0m                         Traceback (most recent call last)",
      "\u001b[1;32m<ipython-input-7-8010cadfa509>\u001b[0m in \u001b[0;36m<module>\u001b[1;34m()\u001b[0m\n\u001b[0;32m      4\u001b[0m     \u001b[0mprint\u001b[0m\u001b[1;33m(\u001b[0m\u001b[1;34m'Spam: %r'\u001b[0m \u001b[1;33m%\u001b[0m \u001b[0mspam\u001b[0m\u001b[1;33m)\u001b[0m\u001b[1;33m\u001b[0m\u001b[0m\n\u001b[0;32m      5\u001b[0m \u001b[1;33m\u001b[0m\u001b[0m\n\u001b[1;32m----> 6\u001b[1;33m \u001b[0meggs\u001b[0m\u001b[1;33m(\u001b[0m\u001b[1;33m)\u001b[0m\u001b[1;33m\u001b[0m\u001b[0m\n\u001b[0m",
      "\u001b[1;32m<ipython-input-7-8010cadfa509>\u001b[0m in \u001b[0;36meggs\u001b[1;34m()\u001b[0m\n\u001b[0;32m      1\u001b[0m \u001b[0mspam\u001b[0m \u001b[1;33m=\u001b[0m \u001b[1;36m1\u001b[0m\u001b[1;33m\u001b[0m\u001b[0m\n\u001b[0;32m      2\u001b[0m \u001b[1;32mdef\u001b[0m \u001b[0meggs\u001b[0m\u001b[1;33m(\u001b[0m\u001b[1;33m)\u001b[0m\u001b[1;33m:\u001b[0m\u001b[1;33m\u001b[0m\u001b[0m\n\u001b[1;32m----> 3\u001b[1;33m     \u001b[0mspam\u001b[0m \u001b[1;33m+=\u001b[0m \u001b[1;36m1\u001b[0m\u001b[1;33m\u001b[0m\u001b[0m\n\u001b[0m\u001b[0;32m      4\u001b[0m     \u001b[0mprint\u001b[0m\u001b[1;33m(\u001b[0m\u001b[1;34m'Spam: %r'\u001b[0m \u001b[1;33m%\u001b[0m \u001b[0mspam\u001b[0m\u001b[1;33m)\u001b[0m\u001b[1;33m\u001b[0m\u001b[0m\n\u001b[0;32m      5\u001b[0m \u001b[1;33m\u001b[0m\u001b[0m\n",
      "\u001b[1;31mUnboundLocalError\u001b[0m: local variable 'spam' referenced before assignment"
     ]
    }
   ],
   "source": [
    "spam = 1\n",
    "def eggs():\n",
    "    spam += 1\n",
    "    print('Spam: %r' % spam)\n",
    "\n",
    "eggs()"
   ]
  },
  {
   "cell_type": "code",
   "execution_count": 14,
   "metadata": {},
   "outputs": [
    {
     "name": "stdout",
     "output_type": "stream",
     "text": [
      "Spam: 2\n"
     ]
    }
   ],
   "source": [
    "# But, it can be (not recommended)\n",
    "spam =1\n",
    "def eggs():\n",
    "    global spam\n",
    "    spam += 1\n",
    "    print('Spam: %r' % spam)\n",
    "\n",
    "eggs()"
   ]
  },
  {
   "cell_type": "code",
   "execution_count": 9,
   "metadata": {
    "collapsed": true
   },
   "outputs": [],
   "source": [
    "# Overwriting and/or creating extra built-ins\n",
    "\n",
    "# Don't\n",
    "list = [1, 2, 3]\n",
    "# Instead,\n",
    "list_ = [1, 2, 3]"
   ]
  },
  {
   "cell_type": "code",
   "execution_count": 1,
   "metadata": {
    "deletable": false,
    "editable": false,
    "run_control": {
     "frozen": true
    }
   },
   "outputs": [
    {
     "data": {
      "text/plain": [
       "[1, 2, 3]"
      ]
     },
     "execution_count": 1,
     "metadata": {},
     "output_type": "execute_result"
    }
   ],
   "source": [
    "list = list((1, 2, 3))\n",
    "list"
   ]
  },
  {
   "cell_type": "code",
   "execution_count": 2,
   "metadata": {
    "deletable": false,
    "editable": false,
    "run_control": {
     "frozen": true
    }
   },
   "outputs": [
    {
     "ename": "TypeError",
     "evalue": "'list' object is not callable",
     "output_type": "error",
     "traceback": [
      "\u001b[1;31m---------------------------------------------------------------------------\u001b[0m",
      "\u001b[1;31mTypeError\u001b[0m                                 Traceback (most recent call last)",
      "\u001b[1;32m<ipython-input-2-7cc7be30d86f>\u001b[0m in \u001b[0;36m<module>\u001b[1;34m()\u001b[0m\n\u001b[1;32m----> 1\u001b[1;33m \u001b[0mlist\u001b[0m\u001b[1;33m(\u001b[0m\u001b[1;33m(\u001b[0m\u001b[1;36m4\u001b[0m\u001b[1;33m,\u001b[0m \u001b[1;36m5\u001b[0m\u001b[1;33m,\u001b[0m \u001b[1;36m6\u001b[0m\u001b[1;33m)\u001b[0m\u001b[1;33m)\u001b[0m\u001b[1;33m\u001b[0m\u001b[0m\n\u001b[0m",
      "\u001b[1;31mTypeError\u001b[0m: 'list' object is not callable"
     ]
    }
   ],
   "source": [
    "list((4, 5, 6))"
   ]
  },
  {
   "cell_type": "markdown",
   "metadata": {
    "collapsed": true
   },
   "source": [
    "--------"
   ]
  },
  {
   "cell_type": "markdown",
   "metadata": {},
   "source": [
    "### 2. Modifying while iterating"
   ]
  },
  {
   "cell_type": "markdown",
   "metadata": {},
   "source": [
    "while iterating through mutable objects such as lists, dicts, or sets, you cannot modify them. -> RuntimeError"
   ]
  },
  {
   "cell_type": "code",
   "execution_count": 1,
   "metadata": {
    "scrolled": true
   },
   "outputs": [
    {
     "ename": "RuntimeError",
     "evalue": "dictionary changed size during iteration",
     "output_type": "error",
     "traceback": [
      "\u001b[1;31m---------------------------------------------------------------------------\u001b[0m",
      "\u001b[1;31mRuntimeError\u001b[0m                              Traceback (most recent call last)",
      "\u001b[1;32m<ipython-input-1-6bf708db7625>\u001b[0m in \u001b[0;36m<module>\u001b[1;34m()\u001b[0m\n\u001b[0;32m      2\u001b[0m \u001b[0mlist_\u001b[0m \u001b[1;33m=\u001b[0m \u001b[1;33m[\u001b[0m\u001b[1;34m'spam'\u001b[0m\u001b[1;33m]\u001b[0m\u001b[1;33m\u001b[0m\u001b[0m\n\u001b[0;32m      3\u001b[0m \u001b[0mset_\u001b[0m \u001b[1;33m=\u001b[0m \u001b[1;33m{\u001b[0m\u001b[1;34m'spam'\u001b[0m\u001b[1;33m,\u001b[0m \u001b[1;34m'eggs'\u001b[0m\u001b[1;33m}\u001b[0m\u001b[1;33m\u001b[0m\u001b[0m\n\u001b[1;32m----> 4\u001b[1;33m \u001b[1;32mfor\u001b[0m \u001b[0mkey\u001b[0m \u001b[1;32min\u001b[0m \u001b[0mdict_\u001b[0m\u001b[1;33m:\u001b[0m\u001b[1;33m\u001b[0m\u001b[0m\n\u001b[0m\u001b[0;32m      5\u001b[0m     \u001b[1;32mdel\u001b[0m \u001b[0mdict_\u001b[0m\u001b[1;33m[\u001b[0m\u001b[0mkey\u001b[0m\u001b[1;33m]\u001b[0m\u001b[1;33m\u001b[0m\u001b[0m\n\u001b[0;32m      6\u001b[0m \u001b[1;32mfor\u001b[0m \u001b[0mitem\u001b[0m \u001b[1;32min\u001b[0m \u001b[0mlist_\u001b[0m\u001b[1;33m:\u001b[0m\u001b[1;33m\u001b[0m\u001b[0m\n",
      "\u001b[1;31mRuntimeError\u001b[0m: dictionary changed size during iteration"
     ]
    }
   ],
   "source": [
    "dict_ = {'spam': 'eggs'}\n",
    "list_ = ['spam']\n",
    "set_ = {'spam', 'eggs'}\n",
    "for key in dict_:\n",
    "    del dict_[key]\n",
    "for item in list_:\n",
    "    list_.remove(item)\n",
    "for item in set_:\n",
    "    set_.remove(item)"
   ]
  },
  {
   "cell_type": "markdown",
   "metadata": {},
   "source": [
    "This can be avoided by copying the object. The most convenient option is by using\n",
    "the list function:"
   ]
  },
  {
   "cell_type": "code",
   "execution_count": 3,
   "metadata": {
    "collapsed": true
   },
   "outputs": [],
   "source": [
    "dict_ = {'spam': 'eggs'}\n",
    "list_ = ['spam']\n",
    "set_ = {'spam', 'eggs'}\n",
    "for key in list(dict_):\n",
    "    del dict_[key]\n",
    "for item in list(list_):\n",
    "    list_.remove(item)\n",
    "for item in list(set_):\n",
    "    set_.remove(item)"
   ]
  },
  {
   "cell_type": "markdown",
   "metadata": {
    "collapsed": true
   },
   "source": [
    "--------"
   ]
  },
  {
   "cell_type": "markdown",
   "metadata": {},
   "source": [
    "### 3. Catching exceptions – differences between Python 2 and 3"
   ]
  },
  {
   "cell_type": "code",
   "execution_count": 110,
   "metadata": {},
   "outputs": [
    {
     "name": "stdout",
     "output_type": "stream",
     "text": [
      "Exception: ValueError(\"invalid literal for int() with base 10: 'a'\",)\n"
     ]
    }
   ],
   "source": [
    "# Python 2\n",
    "value = 'a'\n",
    "try:\n",
    "    # do something here\n",
    "    value = int(value)\n",
    "except (ValueError, TypeError) as e:\n",
    "    print('Exception: %r' % e)"
   ]
  },
  {
   "cell_type": "markdown",
   "metadata": {},
   "source": [
    "Python 3 automatically deletes anything\n",
    "saved with as variable at the end of the except statements\n",
    "The reason for this is\n",
    "that exceptions in Python 3 contain a \"\\__traceback\\__\" attribute."
   ]
  },
  {
   "cell_type": "code",
   "execution_count": 111,
   "metadata": {},
   "outputs": [
    {
     "name": "stdout",
     "output_type": "stream",
     "text": [
      "We caught an exception: ValueError(\"invalid literal for int() with base 10: 'a'\",)\n"
     ]
    }
   ],
   "source": [
    "# Python 3 makes this variable local to the exception scope\n",
    "exception = None\n",
    "try:\n",
    "    value = int(value)\n",
    "except ValueError as exception:\n",
    "    try:\n",
    "        print('We caught an exception: %r' % exception)\n",
    "    finally:\n",
    "        del exception"
   ]
  },
  {
   "cell_type": "code",
   "execution_count": 112,
   "metadata": {
    "collapsed": true
   },
   "outputs": [],
   "source": [
    "def spam(value):\n",
    "    exception = None\n",
    "    try:\n",
    "        value = int(value)\n",
    "    except ValueError as e:\n",
    "        exception = e\n",
    "        print('We caught an exception: %r' % exception)\n",
    "    \n",
    "    return exception"
   ]
  },
  {
   "cell_type": "markdown",
   "metadata": {
    "collapsed": true
   },
   "source": [
    "--------"
   ]
  },
  {
   "cell_type": "markdown",
   "metadata": {},
   "source": [
    "### 4. Late binding – be careful with closures"
   ]
  },
  {
   "cell_type": "markdown",
   "metadata": {},
   "source": [
    "_\"프로그래밍 언어에서의 클로저란 퍼스트클래스 함수를 지원하는 언어의 네임 바인딩 기술이다. 클로저는 어떤 함수를 함수 자신이 가지고 있는 환경과 함께 저장한 레코드이다. 또한 함수가 가진 프리변수(free variable)를 클로저가 만들어지는 당시의 값과 레퍼런스에 맵핑하여 주는 역할을 한다. 클로저는 일반 함수와는 다르게, 자신의 영역 밖에서 호출된 함수의 변수값과 레퍼런스를 복사하고 저장한 뒤, 이 캡처한 값들에 액세스할 수 있게 도와준다.\"_"
   ]
  },
  {
   "cell_type": "code",
   "execution_count": 120,
   "metadata": {},
   "outputs": [
    {
     "name": "stdout",
     "output_type": "stream",
     "text": [
      "25\n",
      "<function square_ at 0x000000000705AB70>\n",
      "<function square_ at 0x000000000705AB70>\n"
     ]
    }
   ],
   "source": [
    "# first_class_function.py\n",
    "def square_(x):\n",
    "    return x * x\n",
    "\n",
    "print(square_(5))\n",
    "\n",
    "f = square_\n",
    "\n",
    "print (square_)\n",
    "print (f)"
   ]
  },
  {
   "cell_type": "markdown",
   "metadata": {},
   "source": [
    "동일한 주소에 함수 오브젝트가 할당 되는 것 확인"
   ]
  },
  {
   "cell_type": "code",
   "execution_count": 124,
   "metadata": {},
   "outputs": [
    {
     "name": "stdout",
     "output_type": "stream",
     "text": [
      "25\n"
     ]
    }
   ],
   "source": [
    "# first_class_function.py\n",
    "def square(x):\n",
    "    return x * x\n",
    "\n",
    "f = square\n",
    "\n",
    "# f(5) 구문으로 square 함수를 호출.\n",
    "print(f(5))"
   ]
  },
  {
   "cell_type": "markdown",
   "metadata": {},
   "source": [
    "위 처럼 프로그래밍 언어가 퍼스트클래스 함수를 지원하면, <br>\n",
    "변수에 함수를 할당할 수 있을뿐만 아니라, 인자로써 다른 함수에 전달하거나, <br>\n",
    "함수의 리턴값으로도 사용 가능"
   ]
  },
  {
   "cell_type": "code",
   "execution_count": 127,
   "metadata": {},
   "outputs": [
    {
     "name": "stdout",
     "output_type": "stream",
     "text": [
      "<function logger.<locals>.log_message at 0x0000000006DC6048>\n",
      "Log:  Hi\n",
      "NameError: logger는 존재하지 않습니다.\n",
      "Log:  Hi\n"
     ]
    }
   ],
   "source": [
    "def logger(msg):\n",
    "    \n",
    "    def log_message(): #1\n",
    "        print ('Log: ', msg)\n",
    "    \n",
    "    return log_message\n",
    "\n",
    "log_hi = logger('Hi')\n",
    "print (log_hi) # log_message 오브젝트가 출력됩니다.\n",
    "log_hi() # \"Log: Hi\"가 출력됩니다.\n",
    "\n",
    "del logger # 글로벌 네임스페이스에서 logger 오브젝트를 지웁니다.\n",
    "\n",
    "# logger 오브젝트가 지워진 것을 확인합니다.\n",
    "try:\n",
    "    print (logger)\n",
    "except NameError:\n",
    "    print ('NameError: logger는 존재하지 않습니다.')\n",
    "\n",
    "log_hi() # logger가 지워진 뒤에도 Log: Hi\"가 출력됩니다."
   ]
  },
  {
   "cell_type": "markdown",
   "metadata": {},
   "source": [
    "[참고] <br>\n",
    "http://schoolofweb.net/blog/posts/%ED%8C%8C%EC%9D%B4%EC%8D%AC-%ED%8D%BC%EC%8A%A4%ED%8A%B8%ED%81%B4%EB%9E%98%EC%8A%A4-%ED%95%A8%EC%88%98-first-class-function/"
   ]
  },
  {
   "cell_type": "markdown",
   "metadata": {
    "collapsed": true
   },
   "source": [
    "--------"
   ]
  },
  {
   "cell_type": "markdown",
   "metadata": {},
   "source": [
    "### 5. Circular imports"
   ]
  },
  {
   "cell_type": "markdown",
   "metadata": {},
   "source": [
    "Even though Python is fairly tolerant towards **circular imports**, there are some cases\n",
    "where you will get errors."
   ]
  },
  {
   "cell_type": "code",
   "execution_count": null,
   "metadata": {
    "code_folding": [],
    "deletable": false,
    "editable": false,
    "run_control": {
     "frozen": true
    }
   },
   "outputs": [],
   "source": [
    "# eggs.py:\n",
    "from spam import spam\n",
    "def eggs():\n",
    "    print('This is eggs')\n",
    "    spam()\n",
    "\n",
    "# spam.py:\n",
    "from eggs import eggs\n",
    "def spam():\n",
    "    print('This is spam')\n",
    "if __name__ == '__main__':\n",
    "    eggs()"
   ]
  },
  {
   "cell_type": "code",
   "execution_count": null,
   "metadata": {},
   "outputs": [],
   "source": [
    "# output:\n",
    "\"\"\"\n",
    "Running spam.py will result in a circular import error: \n",
    "Traceback (most recent call last):\n",
    "    File \"spam.py\", line 1, in <module>\n",
    "        from eggs import eggs\n",
    "    File \"eggs.py\", line 1, in <module>\n",
    "        from spam import spam\n",
    "    File \"spam.py\", line 1, in <module>\n",
    "        from eggs import eggs\n",
    "    ImportError: cannot import name 'eggs'\n",
    "\"\"\""
   ]
  },
  {
   "cell_type": "code",
   "execution_count": 144,
   "metadata": {
    "collapsed": true,
    "deletable": false,
    "editable": false,
    "run_control": {
     "frozen": true
    }
   },
   "outputs": [],
   "source": [
    "# Solution 1: To move the imports within the functions so that they occurat runtime. \n",
    "\n",
    "# eggs.py:\n",
    "def eggs():\n",
    "    from spam import spam\n",
    "    print('This is eggs')\n",
    "    spam()\n",
    "\n",
    "# spam.py:\n",
    "def spam():\n",
    "    from eggs import eggs\n",
    "    print('This is spam')\n",
    "\n",
    "if __name__ == '__main__':\n",
    "    eggs()"
   ]
  },
  {
   "cell_type": "code",
   "execution_count": 145,
   "metadata": {
    "collapsed": true,
    "deletable": false,
    "editable": false,
    "run_control": {
     "frozen": true
    }
   },
   "outputs": [],
   "source": [
    "# Solution 2: Lastly there is the solution of moving the imports below the code that actually uses them\n",
    "eggs.py:\n",
    "def eggs():\n",
    "    print('This is eggs')\n",
    "    spam()\n",
    "    \n",
    "from spam import spam\n",
    "\n",
    "# spam.py:\n",
    "def spam():\n",
    "    print('This is spam')\n",
    "\n",
    "    from eggs import eggs\n",
    "    \n",
    "if __name__ == '__main__':\n",
    "    eggs()"
   ]
  },
  {
   "cell_type": "markdown",
   "metadata": {},
   "source": [
    "### 6. Import collisions"
   ]
  },
  {
   "cell_type": "code",
   "execution_count": null,
   "metadata": {
    "collapsed": true
   },
   "outputs": [],
   "source": [
    "# stl.py for \"numpy-stl project\"\n",
    "\n",
    "import stl # but import itself (not stl package)"
   ]
  },
  {
   "cell_type": "code",
   "execution_count": 147,
   "metadata": {
    "collapsed": true
   },
   "outputs": [],
   "source": [
    "# Solution:  A relative import is generally a better option\n",
    "# instead of writing, \n",
    "import spam\n",
    "# write \n",
    "from . import spam\n",
    "\n",
    "# 2nd : Avoid duplicated name."
   ]
  },
  {
   "cell_type": "markdown",
   "metadata": {},
   "source": [
    "------ ------"
   ]
  },
  {
   "cell_type": "markdown",
   "metadata": {},
   "source": [
    "## Ref."
   ]
  },
  {
   "cell_type": "markdown",
   "metadata": {},
   "source": [
    "[1]: printable formatting 에 대한 설명 <br>\n",
    "https://pyformat.info/ <br>\n",
    "[2]: about-python-coding-convention <br>\n",
    "https://spoqa.github.io/2012/08/03/about-python-coding-convention.html <br>\n",
    "[3]: What do different aphorisms in The Zen of Python mean? <br>\n",
    "https://www.quora.com/What-do-different-aphorisms-in-The-Zen-of-Python-mean <br>\n",
    "[4]: PEP 20 code example <br>\n",
    "https://gist.github.com/evandrix/2030615 <br>\n",
    "[5]: jupyter_contrib_nbextensions <br>\n",
    "https://github.com/ipython-contrib/jupyter_contrib_nbextensions <br>"
   ]
  },
  {
   "cell_type": "code",
   "execution_count": null,
   "metadata": {
    "collapsed": true
   },
   "outputs": [],
   "source": []
  }
 ],
 "metadata": {
  "kernelspec": {
   "display_name": "Python 3",
   "language": "python",
   "name": "python3"
  },
  "language_info": {
   "codemirror_mode": {
    "name": "ipython",
    "version": 3
   },
   "file_extension": ".py",
   "mimetype": "text/x-python",
   "name": "python",
   "nbconvert_exporter": "python",
   "pygments_lexer": "ipython3",
   "version": "3.6.3"
  }
 },
 "nbformat": 4,
 "nbformat_minor": 2
}
